{
 "cells": [
  {
   "cell_type": "code",
   "execution_count": 76,
   "id": "71094d1e",
   "metadata": {},
   "outputs": [],
   "source": [
    "import numpy as np\n",
    "import json"
   ]
  },
  {
   "cell_type": "code",
   "execution_count": 73,
   "id": "01960a1b",
   "metadata": {},
   "outputs": [],
   "source": [
    "def load_json_file(file_path):\n",
    "    try:\n",
    "        with open(file_path, 'r') as file:\n",
    "            return json.load(file)\n",
    "    except FileNotFoundError:\n",
    "        print(f\"Error: File not found: {file_path}\")\n",
    "        return None\n",
    "    except json.JSONDecodeError:\n",
    "        print(f\"Error: Invalid JSON format in: {file_path}\")\n",
    "        return None\n",
    "    \n",
    "com2sense_results = load_json_file('data/com2sense_results.json')\n",
    "com2sense_resilience = load_json_file('data/com2sense_resilience.json')\n",
    "\n",
    "cause_effect_results = load_json_file('data/cause_effect_results.json')\n",
    "cause_effect_resilience = load_json_file('data/cause_effect_resilience.json')\n",
    "\n",
    "arithmetic_results = load_json_file('data/arithmetic_results.json')\n",
    "arithmetic_resilience = load_json_file('data/arithmetic_resilience.json')\n",
    "\n",
    "web_results = load_json_file('data/web_of_lies_results.json')\n",
    "web_resilience = load_json_file('data/web_of_lies_resilience.json')"
   ]
  },
  {
   "cell_type": "code",
   "execution_count": 83,
   "id": "eeb1e4a9",
   "metadata": {},
   "outputs": [],
   "source": [
    "# check if predicted answer is same as true answer (used to calculate Pearson coefficient)\n",
    "models_to_evaluate = ['gpt-3.5-turbo', 'gpt-4-turbo', 'gemini-1.5-flash']\n",
    "STEP_SIZE = len(models_to_evaluate) * 3\n",
    "\n",
    "def initialize_answers():\n",
    "    return {\n",
    "        'gpt-3.5-turbo': [],\n",
    "        'gpt-4-turbo': [],\n",
    "        'gemini-1.5-flash': []\n",
    "    }\n",
    "\n",
    "# com2sense\n",
    "answers_com2sense = initialize_answers()\n",
    "for i in range(0, len(com2sense_results), STEP_SIZE):\n",
    "    for j in range(len(models_to_evaluate)):\n",
    "        parsed_pred = 'true' in com2sense_results[i + j]['pred_answer'].lower()\n",
    "        com2sense_results[i + j]['correct'] = com2sense_results[i + j]['true_answer'] == parsed_pred\n",
    "        answers_com2sense[models_to_evaluate[j]].append(int(com2sense_results[i + j]['correct']))\n",
    "\n",
    "# cause and effect\n",
    "answers_cause_effect = initialize_answers()\n",
    "for i in range(0, len(cause_effect_results), STEP_SIZE):\n",
    "    for j in range(len(models_to_evaluate)):\n",
    "        parsed_pred = 'true' in cause_effect_results[i + j]['pred_answer'].lower()\n",
    "        cause_effect_results[i + j]['correct'] = cause_effect_results[i + j]['true_answer'] == parsed_pred\n",
    "        answers_cause_effect[models_to_evaluate[j]].append(int(cause_effect_results[i + j]['correct']))\n",
    "\n",
    "# web of lies\n",
    "answers_web = initialize_answers()\n",
    "for i in range(0, len(web_results), STEP_SIZE):\n",
    "    for j in range(len(models_to_evaluate)):\n",
    "        pred = web_results[i + j]['pred_answer'].lower()\n",
    "        parsed_pred = True if pred is not None and 'yes' in pred else False\n",
    "        web_results[i + j]['correct'] = web_results[i + j]['true_answer'] == parsed_pred\n",
    "        answers_web[models_to_evaluate[j]].append(int(web_results[i + j]['correct']))\n",
    "\n",
    "# arithmetic\n",
    "answers_arithmetic = initialize_answers()\n",
    "for i in range(0, len(arithmetic_results), STEP_SIZE):\n",
    "    for j in range(len(models_to_evaluate)):\n",
    "        try:\n",
    "            parsed_pred = int(arithmetic_results[i + j]['pred_answer'].replace('.', '').replace(',', ''))\n",
    "            arithmetic_results[i + j]['correct'] = arithmetic_results[i + j]['true_answer'] == parsed_pred\n",
    "        except:\n",
    "            arithmetic_results[i + j]['correct'] = False\n",
    "        answers_arithmetic[models_to_evaluate[j]].append(int(arithmetic_results[i + j]['correct']))"
   ]
  },
  {
   "cell_type": "code",
   "execution_count": 25,
   "id": "a31ac1cc",
   "metadata": {},
   "outputs": [],
   "source": [
    "def calculate_quality(correctness_list, relevance_list, alignment):\n",
    "    correctness = correctness_list.count('correct') / len(correctness_list)\n",
    "    relevance = relevance_list.count('relevant') / len(relevance_list)\n",
    "    alignment = 1 if alignment.lower() == 'yes' else 0\n",
    "    return correctness, relevance, alignment"
   ]
  },
  {
   "cell_type": "code",
   "execution_count": 30,
   "id": "87766b96",
   "metadata": {},
   "outputs": [],
   "source": [
    "def calc_qualities_by_model(results_data, resilience_data):\n",
    "    models_to_evaluate = ['gpt-3.5-turbo', 'gpt-4-turbo', 'gemini-1.5-flash']\n",
    "    qualities_by_model = {}\n",
    "    for model in models_to_evaluate:\n",
    "        qualities_by_model[model] = {\n",
    "            'correctness_quality': [],\n",
    "            'relevance_quality': [],\n",
    "            'alignment_quality': [],\n",
    "            'resilience': []\n",
    "        }\n",
    "\n",
    "    STEP_SIZE = len(models_to_evaluate) * 3\n",
    "    for i in range(0, len(results_data), STEP_SIZE):\n",
    "        for j in range(len(models_to_evaluate)):\n",
    "            original_entry = results_data[i + j]\n",
    "            model = original_entry['model']\n",
    "            correctness_list = original_entry['correctness_annotations']\n",
    "            relevance_list = original_entry['relevance_annotations']\n",
    "            alignment = original_entry['answer_in_alignment']\n",
    "\n",
    "            correctness_quality, relevance_quality, alignment_quality = calculate_quality(correctness_list, relevance_list, alignment)\n",
    "            \n",
    "            qualities_by_model[model]['correctness_quality'].append(correctness_quality)\n",
    "            qualities_by_model[model]['relevance_quality'].append(relevance_quality)\n",
    "            qualities_by_model[model]['alignment_quality'].append(alignment_quality)\n",
    "\n",
    "    for i in range(0, len(resilience_data), len(models_to_evaluate)):\n",
    "        for j in range(len(models_to_evaluate)):\n",
    "            entry = resilience_data[i + j]\n",
    "            model = entry['model']\n",
    "            resilience_metric = entry['resilience_metric']\n",
    "            qualities_by_model[model]['resilience'].append(resilience_metric)\n",
    "    return qualities_by_model"
   ]
  },
  {
   "cell_type": "code",
   "execution_count": null,
   "id": "4a0a96d8",
   "metadata": {},
   "outputs": [
    {
     "data": {
      "text/plain": [
       "0.9954166666666666"
      ]
     },
     "execution_count": 33,
     "metadata": {},
     "output_type": "execute_result"
    }
   ],
   "source": [
    "qualities_by_model_com2sense = calc_qualities_by_model(com2sense_results, com2sense_resilience)\n",
    "qualities_by_model_cause_effect = calc_qualities_by_model(cause_effect_results, cause_effect_resilience)\n",
    "qualities_by_model_arithmetic = calc_qualities_by_model(arithmetic_results, arithmetic_resilience)\n",
    "qualities_by_model_web = calc_qualities_by_model(web_results, web_resilience)"
   ]
  },
  {
   "cell_type": "code",
   "execution_count": 39,
   "id": "606d1696",
   "metadata": {},
   "outputs": [
    {
     "name": "stdout",
     "output_type": "stream",
     "text": [
      "\n",
      "Printing results for web of lies:\n",
      "Model: gpt-3.5-turbo\n",
      "correctness_quality average: 0.8767976190476188\n",
      "relevance_quality average: 0.9936666666666666\n",
      "alignment_quality average: 0.78\n",
      "resilience average: 0.8448713159462602\n",
      "Model: gpt-4-turbo\n",
      "correctness_quality average: 0.9943333333333332\n",
      "relevance_quality average: 1.0\n",
      "alignment_quality average: 1.0\n",
      "resilience average: 0.9760852448744575\n",
      "Model: gemini-1.5-flash\n",
      "correctness_quality average: 0.9919999999999999\n",
      "relevance_quality average: 1.0\n",
      "alignment_quality average: 1.0\n",
      "resilience average: 0.9780006085616687\n"
     ]
    }
   ],
   "source": [
    "def print_averages(qualities_by_model, models_to_evaluate):\n",
    "    for model in models_to_evaluate:\n",
    "        print('Model:', model)\n",
    "        print('correctness_quality average:', sum(qualities_by_model[model]['correctness_quality'])/len(qualities_by_model[model]['correctness_quality']))\n",
    "        print('relevance_quality average:', sum(qualities_by_model[model]['relevance_quality'])/len(qualities_by_model[model]['relevance_quality']))\n",
    "        print('alignment_quality average:', sum(qualities_by_model[model]['alignment_quality'])/len(qualities_by_model[model]['alignment_quality']))\n",
    "        print('resilience average:', sum(qualities_by_model[model]['resilience'])/len(qualities_by_model[model]['resilience']))\n",
    "\n",
    "models_to_evaluate = ['gpt-3.5-turbo', 'gpt-4-turbo', 'gemini-1.5-flash']\n",
    "\n",
    "# print('Printing results for com2sense:')\n",
    "# print_averages(qualities_by_model_com2sense, models_to_evaluate)\n",
    "\n",
    "# print('\\nPrinting results for cause_effect:')\n",
    "# print_averages(qualities_by_model_cause_effect, models_to_evaluate)\n",
    "\n",
    "# print('\\nPrinting results for arithmetic:')\n",
    "# print_averages(qualities_by_model_arithmetic, models_to_evaluate)\n",
    "\n",
    "print('\\nPrinting results for web of lies:')\n",
    "print_averages(qualities_by_model_web, models_to_evaluate)"
   ]
  },
  {
   "cell_type": "code",
   "execution_count": null,
   "id": "d8a7dd75",
   "metadata": {},
   "outputs": [
    {
     "name": "stderr",
     "output_type": "stream",
     "text": [
      "/Users/wilsonduan/Desktop/CS159-LLM-Reasoning/venv/lib/python3.10/site-packages/numpy/lib/_function_base_impl.py:3045: RuntimeWarning: invalid value encountered in divide\n",
      "  c /= stddev[:, None]\n",
      "/Users/wilsonduan/Desktop/CS159-LLM-Reasoning/venv/lib/python3.10/site-packages/numpy/lib/_function_base_impl.py:3046: RuntimeWarning: invalid value encountered in divide\n",
      "  c /= stddev[None, :]\n"
     ]
    },
    {
     "data": {
      "text/plain": [
       "array([[ 1., nan],\n",
       "       [nan, nan]])"
      ]
     },
     "execution_count": 105,
     "metadata": {},
     "output_type": "execute_result"
    }
   ],
   "source": [
    "# Pearson correlation (not used)\n",
    "def correlations(qualities_by_model, answers):\n",
    "    for model in models_to_evaluate:\n",
    "        print('Model:', model)\n",
    "        c = np.array(qualities_by_model[model]['correctness_quality'])\n",
    "        r = np.array(qualities_by_model[model]['relevance_quality'])\n",
    "        a = np.array(qualities_by_model[model]['alignment_quality'])\n",
    "        resil = np.array(qualities_by_model[model]['resilience'])\n",
    "        ans = np.array(answers[model])\n",
    "\n",
    "        print('Correctness coefficient:', np.corrcoef(r, ans)[0, 1])\n",
    "\n",
    "correlations(qualities_by_model_com2sense, answers_com2sense)"
   ]
  },
  {
   "cell_type": "code",
   "execution_count": null,
   "id": "c2645990",
   "metadata": {},
   "outputs": [],
   "source": []
  }
 ],
 "metadata": {
  "kernelspec": {
   "display_name": "venv",
   "language": "python",
   "name": "python3"
  },
  "language_info": {
   "codemirror_mode": {
    "name": "ipython",
    "version": 3
   },
   "file_extension": ".py",
   "mimetype": "text/x-python",
   "name": "python",
   "nbconvert_exporter": "python",
   "pygments_lexer": "ipython3",
   "version": "3.10.16"
  }
 },
 "nbformat": 4,
 "nbformat_minor": 5
}
