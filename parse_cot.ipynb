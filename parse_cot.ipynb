{
 "cells": [
  {
   "cell_type": "code",
   "execution_count": 5,
   "metadata": {},
   "outputs": [],
   "source": [
    "import pandas as pd\n",
    "from collections import defaultdict\n",
    "import random\n",
    "import os\n",
    "from openai import OpenAI\n",
    "from google import genai\n",
    "from google.genai import types\n",
    "import anthropic\n",
    "from sklearn.metrics import classification_report, f1_score, precision_score, recall_score\n",
    "import re\n",
    "import collections\n",
    "import json\n",
    "import copy"
   ]
  },
  {
   "cell_type": "code",
   "execution_count": 7,
   "metadata": {},
   "outputs": [
    {
     "name": "stdout",
     "output_type": "stream",
     "text": [
      "Question: Keith is 5 feet tall so he is less likely to become an amateur basketball player than a horse jockey.\n",
      "Prompt CoT: Evaluate if the following Q follows common sense. Answer 'True' or 'False'\n",
      "Q: Keith is 5 feet tall so he is less likely to become an amateur basketball player than a horse jockey.\n",
      "In answering this question each step should be on a separate line and start with a number and a period, followed by the reasoning. Finally the answer should be on a new line with the word 'Answer' proceeded by a colon.\n",
      "A: Let's think step by step.\n",
      "10\n"
     ]
    }
   ],
   "source": [
    "def load_json_file(file_path):\n",
    "    try:\n",
    "        with open(file_path, 'r') as file:\n",
    "            return json.load(file)\n",
    "    except FileNotFoundError:\n",
    "        print(f\"Error: File not found: {file_path}\")\n",
    "        return None\n",
    "    except json.JSONDecodeError:\n",
    "        print(f\"Error: Invalid JSON format in: {file_path}\")\n",
    "        return None\n",
    "\n",
    "# Example usage:\n",
    "file_path = 'data/big_bench_augmented_with_responses.json'\n",
    "data = load_json_file(file_path)\n",
    "\n",
    "if data:\n",
    "    print('Question:', data[0]['question'])\n",
    "    print('Prompt CoT:', data[0]['prompt_cot'])\n",
    "    print(len(data))\n",
    "\n",
    "def save_json_to_filepath(data, filepath):\n",
    "    with open(filepath, \"w\", encoding=\"utf-8\") as f:\n",
    "        json.dump(data, f, indent=2, ensure_ascii=False)"
   ]
  },
  {
   "cell_type": "code",
   "execution_count": 11,
   "metadata": {},
   "outputs": [
    {
     "name": "stdout",
     "output_type": "stream",
     "text": [
      "gpt-3.5-turbo 1. Being 5 feet tall is on the shorter side for a basketball player.\n",
      "2. Being shorter could make it more difficult for Keith to compete against taller players in basketball.\n",
      "3. Horse jockeys are typically shorter in stature due to weight requirements.\n",
      "4. Being 5 feet tall may actually make Keith more suited to be a horse jockey than a basketball player.\n",
      "Answer: True\n",
      "gpt-4-turbo 1. Consider the typical height requirements for basketball players. Amateur basketball players generally tend to be taller because height can be a significant advantage in the sport.\n",
      "2. Now, think about horse jockeys. Generally, horse jockeys are shorter because a lighter, smaller physique is advantageous in horse racing.\n",
      "3. Keith’s height of 5 feet is considered short for basketball, where players typically are significantly taller.\n",
      "4. For a horse jockey, being 5 feet tall is about average or possibly slightly taller than many jockeys but still within an acceptable range.\n",
      "5. Therefore, Keith’s height of 5 feet makes it more probable for him to pursue a career as a horse jockey rather than as a basketball player, where his height could be a disadvantage.\n",
      "\n",
      "Answer: True\n",
      "claude-3-haiku-20240307 1. Keith is 5 feet tall, which is considered relatively short for a basketball player.\n",
      "2. Being short can make it more challenging to excel in basketball, which typically favors taller players.\n",
      "3. In contrast, being 5 feet tall may be more suitable for a horse jockey, as they need to be lightweight and of a smaller stature to ride horses effectively.\n",
      "4. Therefore, based on the information provided, it is more likely that Keith would be better suited to become a horse jockey than an amateur basketball player.\n",
      "\n",
      "Answer: True\n",
      "gemini-1.5-flash 1.  Being 5 feet tall is unusually short for an amateur basketball player.\n",
      "2.  Being 5 feet tall is not unusually short for a horse jockey.\n",
      "3.  Therefore, Keith's height makes him less likely to become an amateur basketball player than a horse jockey.\n",
      "Answer: True\n",
      "\n",
      "gemini-2.0-flash 1. Basketball players tend to be tall.\n",
      "2. Keith is short for a basketball player.\n",
      "3. Horse jockeys tend to be short.\n",
      "4. Keith's height is suitable for a horse jockey.\n",
      "5. Therefore, Keith is more likely to become a horse jockey than a basketball player.\n",
      "Answer: True\n",
      "\n"
     ]
    }
   ],
   "source": [
    "for k, v in data[0]['response'].items():\n",
    "    print(k, v)"
   ]
  },
  {
   "cell_type": "code",
   "execution_count": null,
   "id": "0bc46218",
   "metadata": {},
   "outputs": [],
   "source": [
    "# parse CoT into steps\n",
    "def split_cot(output: str) -> list[str]:\n",
    "    \"\"\"\n",
    "    Split numbered Chain-of-Thought into discrete steps.\n",
    "    Accepts patterns like '(3)', '3.' or 'Step 3:' on a fresh line.\n",
    "    Returns a list of step strings in order.\n",
    "    \"\"\"\n",
    "    pat = re.compile(r\"^\\s*(?:\\(?\\s*(\\d+)\\s*[.):]|\\bStep\\s+(\\d+)\\s*[:.])\", re.I)\n",
    "    answer_pat = re.compile(r\"^\\s*Answer\\s*:\\s*(.+)\", re.I)\n",
    "    steps = []\n",
    "    answer = None\n",
    "\n",
    "    for line in output.splitlines():\n",
    "        if pat.match(line):\n",
    "            steps.append(pat.sub(\"\", line).strip())\n",
    "        else:\n",
    "            m = answer_pat.match(line)\n",
    "            if m:\n",
    "                answer = m.group(1).strip()\n",
    "\n",
    "    return steps, answer\n",
    "\n",
    "step_data = []\n",
    "for i in range(len(data)):\n",
    "    id, task, question, answer, prompt_direct, prompt_cot, response = data[i].values()\n",
    "    temp_data = copy.deepcopy(data[i])\n",
    "    step_info = {}\n",
    "\n",
    "    # parse openai1\n",
    "    steps, answer = split_cot(response['openai1'])\n",
    "    step_info['openai1'] = steps + answer\n",
    "\n",
    "    # parse openai2\n",
    "    steps, answer = split_cot(response['openai2'])\n",
    "    step_info['openai2'] = steps + answer\n",
    "\n",
    "    # parse anthropic\n",
    "    steps, answer = split_cot(response['anthropic'])\n",
    "    step_info['anthropic'] = steps + answer\n",
    "\n",
    "    # parse gemini1\n",
    "    steps, answer = split_cot(response['gemini1'])\n",
    "    step_info['gemini1'] = steps + answer\n",
    "    \n",
    "    # parse gemini2\n",
    "    steps, answer = split_cot(response['gemini2'])\n",
    "    step_info['gemini2'] = steps + answer\n",
    "\n",
    "    temp_data['steps'] = step_info\n",
    "    step_data.append(temp_data)\n",
    "\n",
    "    break\n",
    "\n",
    "print(step_data)\n",
    "save_json_to_filepath(step_data, 'big_bench_augmented_with_steps.json')"
   ]
  }
 ],
 "metadata": {
  "kernelspec": {
   "display_name": "venv",
   "language": "python",
   "name": "python3"
  },
  "language_info": {
   "codemirror_mode": {
    "name": "ipython",
    "version": 3
   },
   "file_extension": ".py",
   "mimetype": "text/x-python",
   "name": "python",
   "nbconvert_exporter": "python",
   "pygments_lexer": "ipython3",
   "version": "3.13.2"
  }
 },
 "nbformat": 4,
 "nbformat_minor": 5
}
