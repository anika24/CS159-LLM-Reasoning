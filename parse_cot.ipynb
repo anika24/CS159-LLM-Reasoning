{
 "cells": [
  {
   "cell_type": "code",
   "execution_count": 1,
   "metadata": {},
   "outputs": [],
   "source": [
    "import pandas as pd\n",
    "from collections import defaultdict\n",
    "import random\n",
    "import os\n",
    "from openai import OpenAI\n",
    "from google import genai\n",
    "from google.genai import types\n",
    "import anthropic\n",
    "from sklearn.metrics import classification_report, f1_score, precision_score, recall_score\n",
    "import re\n",
    "import collections\n",
    "import json\n",
    "import copy"
   ]
  },
  {
   "cell_type": "code",
   "execution_count": 2,
   "metadata": {},
   "outputs": [
    {
     "name": "stdout",
     "output_type": "stream",
     "text": [
      "Question: Keith is 5 feet tall so he is less likely to become an amateur basketball player than a horse jockey.\n",
      "Prompt CoT: Evaluate if the following Q follows common sense. Answer 'True' or 'False'\n",
      "Q: Keith is 5 feet tall so he is less likely to become an amateur basketball player than a horse jockey.\n",
      "In answering this question each step should be on a separate line and start with a number and a period, followed by the reasoning. Finally the answer should be on a new line with the word 'Answer' proceeded by a colon.\n",
      "A: Let's think step by step.\n",
      "1200\n"
     ]
    }
   ],
   "source": [
    "def load_json_file(file_path):\n",
    "    try:\n",
    "        with open(file_path, 'r') as file:\n",
    "            return json.load(file)\n",
    "    except FileNotFoundError:\n",
    "        print(f\"Error: File not found: {file_path}\")\n",
    "        return None\n",
    "    except json.JSONDecodeError:\n",
    "        print(f\"Error: Invalid JSON format in: {file_path}\")\n",
    "        return None\n",
    "\n",
    "# Example usage:\n",
    "file_path = 'data/big_bench_responses_fixed.json'\n",
    "data = load_json_file(file_path)\n",
    "\n",
    "if data:\n",
    "    print('Question:', data[0]['question'])\n",
    "    print('Prompt CoT:', data[0]['prompt_cot'])\n",
    "    print(len(data))\n",
    "\n",
    "def save_json_to_filepath(data, filepath):\n",
    "    with open(filepath, \"w\", encoding=\"utf-8\") as f:\n",
    "        json.dump(data, f, indent=2, ensure_ascii=False)"
   ]
  },
  {
   "cell_type": "code",
   "execution_count": 3,
   "metadata": {},
   "outputs": [
    {
     "name": "stdout",
     "output_type": "stream",
     "text": [
      "gpt-3.5-turbo 1. Keith's height of 5 feet may make it more difficult for him to play basketball at a competitive level because he is shorter than the average basketball player.\n",
      "2. A horse jockey typically needs to be smaller in stature in order to ride a horse effectively.\n",
      "3. Therefore, Keith is more likely to become a horse jockey than an amateur basketball player.\n",
      "Answer: True\n",
      "gpt-4-turbo 1. Consider the typical heights for athletes in various sports.\n",
      "2. Basketball players are generally quite tall because height is a distinct advantage in the game.\n",
      "3. The average height of a professional basketball player is around 6 feet 7 inches.\n",
      "4. Keith, being 5 feet tall, is significantly shorter than the typical basketball player, which could disadvantage him in the sport, particularly at competitive levels.\n",
      "5. Horse jockeys, on the other hand, are typically shorter and lighter, which is an advantage in horse racing.\n",
      "6. The typical height for a horse jockey ranges from about 4 feet 10 inches to 5 feet 6 inches.\n",
      "7. Keith's height of 5 feet falls within this range, making his physical stature a good match for a career as a horse jockey.\n",
      "\n",
      "Answer: True\n",
      "gemini-1.5-flash 1. Being 5 feet tall is short for an amateur basketball player.\n",
      "2. Being 5 feet tall is relatively tall for a horse jockey.\n",
      "3.  Therefore, a 5-foot-tall person is less likely to become a successful amateur basketball player than a horse jockey.\n",
      "Answer: True\n",
      "\n"
     ]
    }
   ],
   "source": [
    "for k, v in data[0]['response'].items():\n",
    "    print(k, v)"
   ]
  },
  {
   "cell_type": "code",
   "execution_count": 4,
   "id": "0bc46218",
   "metadata": {},
   "outputs": [],
   "source": [
    "models_dict = {\n",
    "    'openai1': 'gpt-3.5-turbo', \n",
    "    'openai2': 'gpt-4-turbo', \n",
    "    'gemini1': 'gemini-1.5-flash'\n",
    "}\n",
    "\n",
    "# parse CoT into steps\n",
    "def split_cot(output: str) -> list[str]:\n",
    "    \"\"\"\n",
    "    Split numbered Chain-of-Thought into discrete steps.\n",
    "    Accepts patterns like '(3)', '3.' or 'Step 3:' on a fresh line.\n",
    "    Returns a list of step strings in order.\n",
    "    \"\"\"\n",
    "    pat = re.compile(r\"^\\s*(?:\\(?\\s*(\\d+)\\s*[.):]|\\bStep\\s+(\\d+)\\s*[:.])\", re.I)\n",
    "    answer_pat = re.compile(r\"^\\s*Answer\\s*:\\s*(.+)\", re.I)\n",
    "    steps = []\n",
    "    answer = None\n",
    "\n",
    "    for line in output.splitlines():\n",
    "        if pat.match(line):\n",
    "            steps.append(pat.sub(\"\", line).strip())\n",
    "        else:\n",
    "            m = answer_pat.match(line)\n",
    "            if m:\n",
    "                answer = m.group(1).strip()\n",
    "\n",
    "    return steps, answer\n",
    "\n",
    "step_data = []\n",
    "for i in range(len(data)):\n",
    "    id, task, question, answer, prompt_direct, prompt_cot, response = data[i].values()\n",
    "    temp_data = copy.deepcopy(data[i])\n",
    "    step_info = {}\n",
    "\n",
    "    # parse openai1\n",
    "    steps, answer = split_cot(response[models_dict['openai1']])\n",
    "    step_info[models_dict['openai1']] = steps + [answer]\n",
    "\n",
    "    # parse openai2\n",
    "    steps, answer = split_cot(response[models_dict['openai2']])\n",
    "    step_info[models_dict['openai2']] = steps + [answer]\n",
    "\n",
    "    # parse gemini1\n",
    "    steps, answer = split_cot(response[models_dict['gemini1']])\n",
    "    step_info[models_dict['gemini1']] = steps + [answer]\n",
    "\n",
    "    temp_data['steps'] = step_info\n",
    "    step_data.append(temp_data)\n",
    "\n",
    "\n",
    "save_json_to_filepath(step_data, 'data/big_bench_responses_with_steps_fixed.json')"
   ]
  },
  {
   "cell_type": "code",
   "execution_count": null,
   "id": "bbf215a5",
   "metadata": {},
   "outputs": [],
   "source": []
  }
 ],
 "metadata": {
  "kernelspec": {
   "display_name": "venv",
   "language": "python",
   "name": "python3"
  },
  "language_info": {
   "codemirror_mode": {
    "name": "ipython",
    "version": 3
   },
   "file_extension": ".py",
   "mimetype": "text/x-python",
   "name": "python",
   "nbconvert_exporter": "python",
   "pygments_lexer": "ipython3",
   "version": "3.13.2"
  }
 },
 "nbformat": 4,
 "nbformat_minor": 5
}
